{
 "cells": [
  {
   "cell_type": "code",
   "execution_count": 638,
   "id": "d2ceeb78-51ec-4a72-8a87-da9244f06790",
   "metadata": {},
   "outputs": [],
   "source": [
    "import pandas as pd\n",
    "import numpy as np\n",
    "import matplotlib.pyplot as plt\n",
    "import seaborn as sns\n",
    "#Seaborn is a Python visualization library based on Matplotlib and is designed to make it easier to create attractive and informative statistical graphics.\n",
    "\n",
    "from sklearn.metrics.pairwise import cosine_similarity\n",
    "from sklearn.feature_extraction.text import TfidfVectorizer\n",
    "#converting a collection of raw documents into a matrix of TF-IDF features.\n",
    "\n",
    "import os\n",
    "#provides a way of using operating system-dependent functionality such as reading or writing to the file system, managing file paths, and interacting with the operating system itself.\n",
    "from scipy.sparse import coo_matrix\n",
    "#used to create and work with sparse matrices in a Coordinate List (COO) format."
   ]
  },
  {
   "cell_type": "code",
   "execution_count": 640,
   "id": "2662287f-2379-4109-9bd6-a9b2c61ddff2",
   "metadata": {},
   "outputs": [
    {
     "data": {
      "text/plain": [
       "Index(['Uniq Id', 'Crawl Timestamp', 'Dataset Origin', 'Product Id',\n",
       "       'Product Barcode', 'Product Company Type Source',\n",
       "       'Product Brand Source', 'Product Brand Normalised Source',\n",
       "       'Product Name Source', 'Match Rank', 'Match Score', 'Match Type',\n",
       "       'Retailer', 'Product Category', 'Product Brand', 'Product Name',\n",
       "       'Product Price', 'Sku', 'Upc', 'Product Url', 'Market',\n",
       "       'Product Description', 'Product Currency',\n",
       "       'Product Available Inventory', 'Product Image Url',\n",
       "       'Product Model Number', 'Product Tags', 'Product Contents',\n",
       "       'Product Rating', 'Product Reviews Count', 'Bsr', 'Joining Key'],\n",
       "      dtype='object')"
      ]
     },
     "execution_count": 640,
     "metadata": {},
     "output_type": "execute_result"
    }
   ],
   "source": [
    "data = pd.read_csv(\"E:\\\\Y3S1\\\\IRWA\\\\IRWA(Project)\\\\marketing_sample_for_walmart_com-walmart_com_product_review__20200701_20201231__5k_data.tsv\",sep='\\t')\n",
    "data.columns"
   ]
  },
  {
   "cell_type": "code",
   "execution_count": 641,
   "id": "a1861b83-08a7-462e-bbb0-7463e93b92d7",
   "metadata": {},
   "outputs": [],
   "source": [
    "missing_values = data.isnull().sum()"
   ]
  },
  {
   "cell_type": "code",
   "execution_count": 644,
   "id": "7897bcb3-347e-4d81-8543-9e0d2cb258d9",
   "metadata": {},
   "outputs": [
    {
     "data": {
      "text/plain": [
       "Uniq Id                               0\n",
       "Crawl Timestamp                       0\n",
       "Dataset Origin                     5000\n",
       "Product Id                            0\n",
       "Product Barcode                    5000\n",
       "Product Company Type Source           0\n",
       "Product Brand Source               4861\n",
       "Product Brand Normalised Source    4861\n",
       "Product Name Source                4861\n",
       "Match Rank                         5000\n",
       "Match Score                        5000\n",
       "Match Type                         5000\n",
       "Retailer                              0\n",
       "Product Category                     10\n",
       "Product Brand                        13\n",
       "Product Name                          0\n",
       "Product Price                        42\n",
       "Sku                                5000\n",
       "Upc                                5000\n",
       "Product Url                           0\n",
       "Market                                0\n",
       "Product Description                1127\n",
       "Product Currency                      0\n",
       "Product Available Inventory           0\n",
       "Product Image Url                     0\n",
       "Product Model Number               5000\n",
       "Product Tags                          0\n",
       "Product Contents                   5000\n",
       "Product Rating                     2806\n",
       "Product Reviews Count              1654\n",
       "Bsr                                5000\n",
       "Joining Key                           0\n",
       "dtype: int64"
      ]
     },
     "execution_count": 644,
     "metadata": {},
     "output_type": "execute_result"
    }
   ],
   "source": [
    "missing_values"
   ]
  },
  {
   "cell_type": "code",
   "execution_count": null,
   "id": "259ddf33-05a1-4ec0-b6ea-cf8dacbdc316",
   "metadata": {},
   "outputs": [],
   "source": []
  },
  {
   "cell_type": "code",
   "execution_count": 647,
   "id": "95a1ff4c-4666-4e53-894a-c031facb5fb1",
   "metadata": {},
   "outputs": [
    {
     "name": "stdout",
     "output_type": "stream",
     "text": [
      "<class 'pandas.core.frame.DataFrame'>\n",
      "RangeIndex: 5000 entries, 0 to 4999\n",
      "Data columns (total 19 columns):\n",
      " #   Column                       Non-Null Count  Dtype  \n",
      "---  ------                       --------------  -----  \n",
      " 0   Uniq Id                      5000 non-null   object \n",
      " 1   Crawl Timestamp              5000 non-null   object \n",
      " 2   Product Id                   5000 non-null   object \n",
      " 3   Product Company Type Source  5000 non-null   object \n",
      " 4   Retailer                     5000 non-null   object \n",
      " 5   Product Category             5000 non-null   object \n",
      " 6   Product Brand                5000 non-null   object \n",
      " 7   Product Name                 5000 non-null   object \n",
      " 8   Product Price                4958 non-null   float64\n",
      " 9   Product Url                  5000 non-null   object \n",
      " 10  Market                       5000 non-null   object \n",
      " 11  Product Description          5000 non-null   object \n",
      " 12  Product Currency             5000 non-null   object \n",
      " 13  Product Available Inventory  5000 non-null   int64  \n",
      " 14  Product Image Url            5000 non-null   object \n",
      " 15  Product Tags                 5000 non-null   object \n",
      " 16  Product Rating               5000 non-null   float64\n",
      " 17  Product Reviews Count        5000 non-null   float64\n",
      " 18  Joining Key                  5000 non-null   object \n",
      "dtypes: float64(3), int64(1), object(15)\n",
      "memory usage: 742.3+ KB\n"
     ]
    },
    {
     "name": "stderr",
     "output_type": "stream",
     "text": [
      "C:\\Users\\LENOVO\\AppData\\Local\\Temp\\ipykernel_2600\\2462889671.py:9: FutureWarning: A value is trying to be set on a copy of a DataFrame or Series through chained assignment using an inplace method.\n",
      "The behavior will change in pandas 3.0. This inplace method will never work because the intermediate object on which we are setting values always behaves as a copy.\n",
      "\n",
      "For example, when doing 'df[col].method(value, inplace=True)', try using 'df.method({col: value}, inplace=True)' or df[col] = df[col].method(value) instead, to perform the operation inplace on the original object.\n",
      "\n",
      "\n",
      "  O_data['Product Rating'].fillna(0, inplace=True)\n",
      "C:\\Users\\LENOVO\\AppData\\Local\\Temp\\ipykernel_2600\\2462889671.py:11: FutureWarning: A value is trying to be set on a copy of a DataFrame or Series through chained assignment using an inplace method.\n",
      "The behavior will change in pandas 3.0. This inplace method will never work because the intermediate object on which we are setting values always behaves as a copy.\n",
      "\n",
      "For example, when doing 'df[col].method(value, inplace=True)', try using 'df.method({col: value}, inplace=True)' or df[col] = df[col].method(value) instead, to perform the operation inplace on the original object.\n",
      "\n",
      "\n",
      "  O_data['Product Reviews Count'].fillna(0, inplace=True)\n",
      "C:\\Users\\LENOVO\\AppData\\Local\\Temp\\ipykernel_2600\\2462889671.py:13: FutureWarning: A value is trying to be set on a copy of a DataFrame or Series through chained assignment using an inplace method.\n",
      "The behavior will change in pandas 3.0. This inplace method will never work because the intermediate object on which we are setting values always behaves as a copy.\n",
      "\n",
      "For example, when doing 'df[col].method(value, inplace=True)', try using 'df.method({col: value}, inplace=True)' or df[col] = df[col].method(value) instead, to perform the operation inplace on the original object.\n",
      "\n",
      "\n",
      "  O_data['Product Category'].fillna('', inplace=True)\n",
      "C:\\Users\\LENOVO\\AppData\\Local\\Temp\\ipykernel_2600\\2462889671.py:15: FutureWarning: A value is trying to be set on a copy of a DataFrame or Series through chained assignment using an inplace method.\n",
      "The behavior will change in pandas 3.0. This inplace method will never work because the intermediate object on which we are setting values always behaves as a copy.\n",
      "\n",
      "For example, when doing 'df[col].method(value, inplace=True)', try using 'df.method({col: value}, inplace=True)' or df[col] = df[col].method(value) instead, to perform the operation inplace on the original object.\n",
      "\n",
      "\n",
      "  O_data['Product Brand'].fillna('', inplace=True)\n",
      "C:\\Users\\LENOVO\\AppData\\Local\\Temp\\ipykernel_2600\\2462889671.py:17: FutureWarning: A value is trying to be set on a copy of a DataFrame or Series through chained assignment using an inplace method.\n",
      "The behavior will change in pandas 3.0. This inplace method will never work because the intermediate object on which we are setting values always behaves as a copy.\n",
      "\n",
      "For example, when doing 'df[col].method(value, inplace=True)', try using 'df.method({col: value}, inplace=True)' or df[col] = df[col].method(value) instead, to perform the operation inplace on the original object.\n",
      "\n",
      "\n",
      "  O_data['Product Description'].fillna('', inplace=True)\n"
     ]
    }
   ],
   "source": [
    "# Step 1: Drop columns with too many missing values\n",
    "columns_to_drop = ['Dataset Origin', 'Product Barcode', 'Product Brand Source', 'Product Brand Normalised Source',\n",
    "                   'Product Name Source', 'Match Rank', 'Match Score', 'Match Type', 'Sku', 'Upc', \n",
    "                   'Product Model Number', 'Product Contents', 'Bsr']\n",
    "\n",
    "O_data = data.drop(columns=columns_to_drop)\n",
    "\n",
    "# Fill missing values in 'Product Rating' with a default value (e.g., 0)\n",
    "O_data['Product Rating'].fillna(0, inplace=True)\n",
    "# Fill missing values in 'Product Reviews Count' with a default value (e.g., 0)\n",
    "O_data['Product Reviews Count'].fillna(0, inplace=True)\n",
    "# Fill missing values in 'Product Category' with a default value (e.g., 'Unknown')\n",
    "O_data['Product Category'].fillna('', inplace=True)\n",
    "# Fill missing values in 'Product Brand' with a default value (e.g., 'Unknown')\n",
    "O_data['Product Brand'].fillna('', inplace=True)\n",
    "# Fill missing values in 'Product Description' with an empty string\n",
    "O_data['Product Description'].fillna('', inplace=True)\n",
    "\n",
    "# Verify the results\n",
    "O_data.info()\n"
   ]
  },
  {
   "cell_type": "code",
   "execution_count": null,
   "id": "ee76601c-3db8-4293-875f-0eedc1a48b5c",
   "metadata": {},
   "outputs": [],
   "source": []
  },
  {
   "cell_type": "code",
   "execution_count": 650,
   "id": "089906b2-0ced-44a3-a558-e05727b4a94b",
   "metadata": {},
   "outputs": [
    {
     "data": {
      "text/plain": [
       "Index(['Uniq Id', 'Crawl Timestamp', 'Product Id',\n",
       "       'Product Company Type Source', 'Retailer', 'Product Category',\n",
       "       'Product Brand', 'Product Name', 'Product Price', 'Product Url',\n",
       "       'Market', 'Product Description', 'Product Currency',\n",
       "       'Product Available Inventory', 'Product Image Url', 'Product Tags',\n",
       "       'Product Rating', 'Product Reviews Count', 'Joining Key'],\n",
       "      dtype='object')"
      ]
     },
     "execution_count": 650,
     "metadata": {},
     "output_type": "execute_result"
    }
   ],
   "source": [
    "O_data.columns\n"
   ]
  },
  {
   "cell_type": "code",
   "execution_count": 652,
   "id": "1a277f80-375a-4e28-a0a8-20faa8226675",
   "metadata": {},
   "outputs": [
    {
     "data": {
      "text/plain": [
       "(5000, 19)"
      ]
     },
     "execution_count": 652,
     "metadata": {},
     "output_type": "execute_result"
    }
   ],
   "source": [
    "O_data.shape"
   ]
  },
  {
   "cell_type": "code",
   "execution_count": 654,
   "id": "90985e6d-3084-4612-972f-1a66fffaaa16",
   "metadata": {},
   "outputs": [
    {
     "data": {
      "text/plain": [
       "Uniq Id                         0\n",
       "Crawl Timestamp                 0\n",
       "Product Id                      0\n",
       "Product Company Type Source     0\n",
       "Retailer                        0\n",
       "Product Category                0\n",
       "Product Brand                   0\n",
       "Product Name                    0\n",
       "Product Price                  42\n",
       "Product Url                     0\n",
       "Market                          0\n",
       "Product Description             0\n",
       "Product Currency                0\n",
       "Product Available Inventory     0\n",
       "Product Image Url               0\n",
       "Product Tags                    0\n",
       "Product Rating                  0\n",
       "Product Reviews Count           0\n",
       "Joining Key                     0\n",
       "dtype: int64"
      ]
     },
     "execution_count": 654,
     "metadata": {},
     "output_type": "execute_result"
    }
   ],
   "source": [
    "O_data.isnull().sum()"
   ]
  },
  {
   "cell_type": "code",
   "execution_count": 656,
   "id": "7143a65d-de57-48b0-8130-fb028aae4fab",
   "metadata": {},
   "outputs": [],
   "source": [
    "columns_to_drop = ['Retailer', 'Market', 'Product Url', 'Product Available Inventory',\n",
    "                   'Product Currency']\n",
    "\n",
    "dataO = O_data.drop(columns=columns_to_drop)"
   ]
  },
  {
   "cell_type": "code",
   "execution_count": null,
   "id": "0db3646d-205e-450c-b388-aa31fc4419e9",
   "metadata": {},
   "outputs": [],
   "source": []
  },
  {
   "cell_type": "code",
   "execution_count": 659,
   "id": "3335ee8a-0ab0-49b6-a50c-72e1010c1a29",
   "metadata": {},
   "outputs": [
    {
     "name": "stdout",
     "output_type": "stream",
     "text": [
      "Uniq Id                          int32\n",
      "Crawl Timestamp                  int32\n",
      "Product Id                       int32\n",
      "Product Company Type Source      int32\n",
      "Retailer                         int32\n",
      "Product Category                 int32\n",
      "Product Brand                    int32\n",
      "Product Name                     int32\n",
      "Product Price                  float64\n",
      "Product Url                      int32\n",
      "Market                           int32\n",
      "Product Description              int32\n",
      "Product Currency                 int32\n",
      "Product Available Inventory      int64\n",
      "Product Image Url                int32\n",
      "Product Tags                     int32\n",
      "Product Rating                 float64\n",
      "Product Reviews Count          float64\n",
      "Joining Key                      int32\n",
      "dtype: object\n"
     ]
    }
   ],
   "source": [
    "import pandas as pd\n",
    "from sklearn.preprocessing import LabelEncoder\n",
    "\n",
    "# Assuming 'O_data' is your original DataFrame\n",
    "\n",
    "# List of categorical columns\n",
    "categorical_columns = [\n",
    "    'Uniq Id', 'Crawl Timestamp', 'Product Id', 'Product Company Type Source', \n",
    "    'Retailer', 'Product Category', 'Product Brand', 'Product Name', \n",
    "    'Product Url', 'Market', 'Product Description', \n",
    "    'Product Currency', 'Product Image Url', 'Product Tags', \n",
    "    'Joining Key'\n",
    "]\n",
    "\n",
    "# Create a copy of O_data to save the encoded data in 'data_cleaned'\n",
    "data_cleaned = O_data.copy()\n",
    "\n",
    "# Initialize the LabelEncoder\n",
    "label_encoder = LabelEncoder()\n",
    "\n",
    "# Apply label encoding for all categorical columns\n",
    "for col in categorical_columns:\n",
    "    if col in data_cleaned.columns:  # Check if the column exists in the DataFrame\n",
    "        data_cleaned[col] = label_encoder.fit_transform(data_cleaned[col].astype(str))\n",
    "\n",
    "# Check the data types after encoding\n",
    "print(data_cleaned.dtypes)\n"
   ]
  },
  {
   "cell_type": "code",
   "execution_count": null,
   "id": "1ba41508-554e-4697-af10-9a89d16c83d6",
   "metadata": {},
   "outputs": [],
   "source": []
  },
  {
   "cell_type": "code",
   "execution_count": null,
   "id": "b2f955e4-3ef2-4c04-bff6-340b477c1314",
   "metadata": {},
   "outputs": [],
   "source": [
    "\n"
   ]
  },
  {
   "cell_type": "code",
   "execution_count": 662,
   "id": "b0005b41-b1c6-4486-978d-1d86c4469c88",
   "metadata": {},
   "outputs": [
    {
     "name": "stdout",
     "output_type": "stream",
     "text": [
      "<class 'pandas.core.frame.DataFrame'>\n",
      "RangeIndex: 5000 entries, 0 to 4999\n",
      "Data columns (total 19 columns):\n",
      " #   Column                       Non-Null Count  Dtype  \n",
      "---  ------                       --------------  -----  \n",
      " 0   Uniq Id                      5000 non-null   int32  \n",
      " 1   Crawl Timestamp              5000 non-null   int32  \n",
      " 2   Product Id                   5000 non-null   int32  \n",
      " 3   Product Company Type Source  5000 non-null   int32  \n",
      " 4   Retailer                     5000 non-null   int32  \n",
      " 5   Product Category             5000 non-null   int32  \n",
      " 6   Product Brand                5000 non-null   int32  \n",
      " 7   Product Name                 5000 non-null   int32  \n",
      " 8   Product Price                4958 non-null   float64\n",
      " 9   Product Url                  5000 non-null   int32  \n",
      " 10  Market                       5000 non-null   int32  \n",
      " 11  Product Description          5000 non-null   int32  \n",
      " 12  Product Currency             5000 non-null   int32  \n",
      " 13  Product Available Inventory  5000 non-null   int64  \n",
      " 14  Product Image Url            5000 non-null   int32  \n",
      " 15  Product Tags                 5000 non-null   int32  \n",
      " 16  Product Rating               5000 non-null   float64\n",
      " 17  Product Reviews Count        5000 non-null   float64\n",
      " 18  Joining Key                  5000 non-null   int32  \n",
      "dtypes: float64(3), int32(15), int64(1)\n",
      "memory usage: 449.3 KB\n"
     ]
    }
   ],
   "source": [
    "data_cleaned.info()"
   ]
  },
  {
   "cell_type": "code",
   "execution_count": 663,
   "id": "fec7ce4c-c034-4a44-b820-b3bed33961cb",
   "metadata": {},
   "outputs": [
    {
     "data": {
      "image/png": "[encoded data removed]",
      "text/plain": [
       "<Figure size 1200x1000 with 2 Axes>"
      ]
     },
     "metadata": {},
     "output_type": "display_data"
    }
   ],
   "source": [
    "import matplotlib.pyplot as plt\n",
    "import seaborn as sns\n",
    "\n",
    "# Step 1: Ensure your data contains only numeric columns\n",
    "numeric_data = data_cleaned.select_dtypes(include=['float64', 'int32'])\n",
    "\n",
    "# Step 2: Calculate the correlation matrix on the numeric DataFrame\n",
    "correlation_matrix = numeric_data.corr()\n",
    "\n",
    "# Step 3: Set up the matplotlib figure\n",
    "plt.figure(figsize=(12, 10))\n",
    "\n",
    "# Step 4: Create a heatmap\n",
    "sns.heatmap(correlation_matrix, annot=True, fmt=\".2f\", cmap='coolwarm', square=True, cbar_kws={\"shrink\": .8})\n",
    "\n",
    "# Step 5: Set title and labels\n",
    "plt.title('Correlation Matrix', fontsize=16)\n",
    "plt.xticks(rotation=45, ha='right')\n",
    "plt.yticks(rotation=0)\n",
    "plt.tight_layout()\n",
    "\n",
    "# Step 6: Show the plot\n",
    "plt.show()\n"
   ]
  },
  {
   "cell_type": "code",
   "execution_count": 664,
   "id": "be112719-a529-4b73-8057-1db852cfb7bd",
   "metadata": {},
   "outputs": [],
   "source": [
    "# Step 1: Select upper triangle of the correlation matrix\n",
    "upper = correlation_matrix.abs().where(np.triu(np.ones(correlation_matrix.shape), k=1).astype(bool))\n",
    "\n",
    "# Step 2: Find features with correlation greater than the threshold\n",
    "threshold = 0.8\n",
    "to_drop = [column for column in upper.columns if any(upper[column] > threshold)]\n",
    "\n"
   ]
  },
  {
   "cell_type": "code",
   "execution_count": null,
   "id": "716ec873-c35f-4a6a-9665-1d626e1c000b",
   "metadata": {},
   "outputs": [],
   "source": []
  },
  {
   "cell_type": "code",
   "execution_count": 666,
   "id": "01fa945f-a555-4381-939d-131eff47853b",
   "metadata": {},
   "outputs": [
    {
     "name": "stdout",
     "output_type": "stream",
     "text": [
      "<class 'pandas.core.frame.DataFrame'>\n",
      "RangeIndex: 5000 entries, 0 to 4999\n",
      "Data columns (total 14 columns):\n",
      " #   Column                       Non-Null Count  Dtype  \n",
      "---  ------                       --------------  -----  \n",
      " 0   Uniq Id                      5000 non-null   int32  \n",
      " 1   Crawl Timestamp              5000 non-null   int32  \n",
      " 2   Product Id                   5000 non-null   int32  \n",
      " 3   Product Company Type Source  5000 non-null   int32  \n",
      " 4   Product Category             5000 non-null   int32  \n",
      " 5   Product Brand                5000 non-null   int32  \n",
      " 6   Product Name                 5000 non-null   int32  \n",
      " 7   Product Price                4958 non-null   float64\n",
      " 8   Product Description          5000 non-null   int32  \n",
      " 9   Product Image Url            5000 non-null   int32  \n",
      " 10  Product Tags                 5000 non-null   int32  \n",
      " 11  Product Rating               5000 non-null   float64\n",
      " 12  Product Reviews Count        5000 non-null   float64\n",
      " 13  Joining Key                  5000 non-null   int32  \n",
      "dtypes: float64(3), int32(11)\n",
      "memory usage: 332.2 KB\n",
      "None\n"
     ]
    }
   ],
   "source": [
    "# Drop the specified columns\n",
    "columns_to_drop = ['Product Currency', 'Product Available Inventory', 'Market', 'Retailer','Product Url']\n",
    "data = data_cleaned.drop(columns=columns_to_drop)\n",
    "\n",
    "# Check the result\n",
    "print(data.info())\n"
   ]
  },
  {
   "cell_type": "code",
   "execution_count": null,
   "id": "2c93fb07-0b0d-4b70-865a-f609ded50bd2",
   "metadata": {},
   "outputs": [],
   "source": []
  },
  {
   "cell_type": "code",
   "execution_count": null,
   "id": "06eece64-691f-4815-be64-69802b8ca9d2",
   "metadata": {},
   "outputs": [],
   "source": []
  },
  {
   "cell_type": "code",
   "execution_count": 670,
   "id": "aec3e4ab-4c78-4aa2-8088-b6222a1cb1ee",
   "metadata": {},
   "outputs": [
    {
     "name": "stdout",
     "output_type": "stream",
     "text": [
      "Index(['Uniq Id', 'Crawl Timestamp', 'Product Id',\n",
      "       'Product Company Type Source', 'Product Category', 'Product Brand',\n",
      "       'Product Name', 'Product Price', 'Product Description',\n",
      "       'Product Image Url', 'Product Tags', 'Product Rating',\n",
      "       'Product Reviews Count', 'Joining Key'],\n",
      "      dtype='object')\n"
     ]
    }
   ],
   "source": [
    "print(data.columns)"
   ]
  },
  {
   "cell_type": "code",
   "execution_count": null,
   "id": "2c26720d-3d40-4f87-a601-9a86ebc6d0f8",
   "metadata": {},
   "outputs": [],
   "source": [
    "\n"
   ]
  },
  {
   "cell_type": "code",
   "execution_count": null,
   "id": "30df34f4-c224-487f-955e-07c113b36fed",
   "metadata": {},
   "outputs": [],
   "source": []
  },
  {
   "cell_type": "code",
   "execution_count": 674,
   "id": "da11c858-41fe-4881-a650-f8f60a51e293",
   "metadata": {},
   "outputs": [
    {
     "name": "stdout",
     "output_type": "stream",
     "text": [
      "<class 'pandas.core.frame.DataFrame'>\n",
      "RangeIndex: 5000 entries, 0 to 4999\n",
      "Data columns (total 14 columns):\n",
      " #   Column                       Non-Null Count  Dtype  \n",
      "---  ------                       --------------  -----  \n",
      " 0   Uniq Id                      5000 non-null   int32  \n",
      " 1   Crawl Timestamp              5000 non-null   int32  \n",
      " 2   Product Id                   5000 non-null   int32  \n",
      " 3   Product Company Type Source  5000 non-null   int32  \n",
      " 4   Product Category             5000 non-null   int32  \n",
      " 5   Product Brand                5000 non-null   int32  \n",
      " 6   Product Name                 5000 non-null   int32  \n",
      " 7   Product Price                4958 non-null   float64\n",
      " 8   Product Description          5000 non-null   int32  \n",
      " 9   Product Image Url            5000 non-null   int32  \n",
      " 10  Product Tags                 5000 non-null   int32  \n",
      " 11  Product Rating               5000 non-null   float64\n",
      " 12  Product Reviews Count        5000 non-null   float64\n",
      " 13  Joining Key                  5000 non-null   int32  \n",
      "dtypes: float64(3), int32(11)\n",
      "memory usage: 332.2 KB\n"
     ]
    }
   ],
   "source": [
    "data.info()"
   ]
  },
  {
   "cell_type": "code",
   "execution_count": 675,
   "id": "c647b32e-f3e5-48b0-805b-a633daabca3f",
   "metadata": {},
   "outputs": [
    {
     "name": "stdout",
     "output_type": "stream",
     "text": [
      "<class 'pandas.core.frame.DataFrame'>\n",
      "RangeIndex: 5000 entries, 0 to 4999\n",
      "Data columns (total 14 columns):\n",
      " #   Column                       Non-Null Count  Dtype  \n",
      "---  ------                       --------------  -----  \n",
      " 0   Uniq Id                      5000 non-null   object \n",
      " 1   Crawl Timestamp              5000 non-null   object \n",
      " 2   Product Id                   5000 non-null   object \n",
      " 3   Product Company Type Source  5000 non-null   object \n",
      " 4   Product Category             5000 non-null   object \n",
      " 5   Product Brand                5000 non-null   object \n",
      " 6   Product Name                 5000 non-null   object \n",
      " 7   Product Price                4958 non-null   float64\n",
      " 8   Product Description          5000 non-null   object \n",
      " 9   Product Image Url            5000 non-null   object \n",
      " 10  Product Tags                 5000 non-null   object \n",
      " 11  Product Rating               5000 non-null   float64\n",
      " 12  Product Reviews Count        5000 non-null   float64\n",
      " 13  Joining Key                  5000 non-null   object \n",
      "dtypes: float64(3), object(11)\n",
      "memory usage: 547.0+ KB\n"
     ]
    }
   ],
   "source": [
    "dataO.info()"
   ]
  },
  {
   "cell_type": "code",
   "execution_count": null,
   "id": "005cf393-36f9-4ea7-9150-567ffdc105e2",
   "metadata": {},
   "outputs": [],
   "source": []
  },
  {
   "cell_type": "code",
   "execution_count": 677,
   "id": "2b96195f-a3df-40b4-9bc1-452accecbd34",
   "metadata": {},
   "outputs": [
    {
     "data": {
      "text/plain": [
       "Text(0.5, 1.0, 'Most Popular items')"
      ]
     },
     "execution_count": 677,
     "metadata": {},
     "output_type": "execute_result"
    },
    {
     "data": {
      "image/png": "[encoded data removed]",
      "text/plain": [
       "<Figure size 640x480 with 1 Axes>"
      ]
     },
     "metadata": {},
     "output_type": "display_data"
    }
   ],
   "source": [
    "# Most popular items\n",
    "popular_items = dataO['Product Id'].value_counts().head(5)\n",
    "popular_items.plot(kind='bar',color='purple')\n",
    "plt.title(\"Most Popular items\")"
   ]
  },
  {
   "cell_type": "code",
   "execution_count": null,
   "id": "b0fbb199-4000-4238-9a2a-e57ed5a6060c",
   "metadata": {},
   "outputs": [],
   "source": []
  },
  {
   "cell_type": "code",
   "execution_count": 679,
   "id": "77e442f7-fa7b-4fe7-abd0-fed68b614de7",
   "metadata": {},
   "outputs": [
    {
     "data": {
      "text/plain": [
       "<Axes: xlabel='Product Rating'>"
      ]
     },
     "execution_count": 679,
     "metadata": {},
     "output_type": "execute_result"
    },
    {
     "data": {
      "image/png": "[encoded data removed]",
      "text/plain": [
       "<Figure size 640x480 with 1 Axes>"
      ]
     },
     "metadata": {},
     "output_type": "display_data"
    }
   ],
   "source": [
    "# most rated counts\n",
    "train_data['Product Rating'].value_counts().plot(kind='bar',color='green')"
   ]
  },
  {
   "cell_type": "code",
   "execution_count": 680,
   "id": "ec6aadfc-c04a-4c91-822c-dfd3d988e532",
   "metadata": {},
   "outputs": [
    {
     "data": {
      "text/plain": [
       "Product Name\n",
       "$6 Mail-In Rebate Available Braun Epilator Silk-epil 3-270 with Bikini Trimmer and 3 Extras                           4.5\n",
       "($100 Value) Peter Thomas Roth Thermal Therapy Duo Skincare Kit                                                       5.0\n",
       "($11 Value) Love Beauty and Planet Coconut Water Mimosa & Lavender Argan Oil Hand Cream Holiday Gift Set 2 Ct         0.0\n",
       "($125 Value) Impressions Vanity Touch Pro LED Makeup Mirror with Wireless Bluetooth Audio & USB Charger, Rose Gold    2.5\n",
       "($129 Value) CHI G2 Ceramic Titanium Infused Hairstyling Flat Iron Straightener, 1&quot                               4.4\n",
       "                                                                                                                     ... \n",
       "wet n wild Photo Focus Correcting Palette, Color Commentary                                                           3.3\n",
       "wet n wild Photo Focus Liquid Foundation, Medium Dark, Matte, Desert Beige, 1 fl oz                                   0.0\n",
       "wet n wild Photo Focus Pressed Powder, Dark Café                                                                      4.2\n",
       "wet n wild Silk Finish Lipstick, Honolulu Is Calling                                                                  3.9\n",
       "wnw i-shimmer eyepencil sky li                                                                                        0.0\n",
       "Name: Product Rating, Length: 4921, dtype: float64"
      ]
     },
     "execution_count": 680,
     "metadata": {},
     "output_type": "execute_result"
    }
   ],
   "source": [
    "dataO.groupby(['Product Name'])['Product Rating'].mean()"
   ]
  },
  {
   "cell_type": "code",
   "execution_count": 681,
   "id": "bdbb01b6-89a5-4150-a948-7c9d3e6b4d73",
   "metadata": {},
   "outputs": [],
   "source": [
    "average_ratings = dataO.groupby(['Product Name','Product Reviews Count','Product Brand','Product Image Url'])['Product Rating'].mean().reset_index()\n"
   ]
  },
  {
   "cell_type": "code",
   "execution_count": 682,
   "id": "b097a18c-b4ce-43df-aaf5-ce8b0d28deae",
   "metadata": {},
   "outputs": [
    {
     "data": {
      "text/html": [
       "<div>\n",
       "<style scoped>\n",
       "    .dataframe tbody tr th:only-of-type {\n",
       "        vertical-align: middle;\n",
       "    }\n",
       "\n",
       "    .dataframe tbody tr th {\n",
       "        vertical-align: top;\n",
       "    }\n",
       "\n",
       "    .dataframe thead th {\n",
       "        text-align: right;\n",
       "    }\n",
       "</style>\n",
       "<table border=\"1\" class=\"dataframe\">\n",
       "  <thead>\n",
       "    <tr style=\"text-align: right;\">\n",
       "      <th></th>\n",
       "      <th>Product Name</th>\n",
       "      <th>Product Reviews Count</th>\n",
       "      <th>Product Brand</th>\n",
       "      <th>Product Image Url</th>\n",
       "      <th>Product Rating</th>\n",
       "    </tr>\n",
       "  </thead>\n",
       "  <tbody>\n",
       "    <tr>\n",
       "      <th>1686</th>\n",
       "      <td>Electric Shaver, Triple Shaving Time Electric ...</td>\n",
       "      <td>4.0</td>\n",
       "      <td>Moosoo</td>\n",
       "      <td>https://i5.walmartimages.com/asr/e7dcd553-90df...</td>\n",
       "      <td>5.0</td>\n",
       "    </tr>\n",
       "    <tr>\n",
       "      <th>526</th>\n",
       "      <td>Alaffia Body Lotion, Vanilla, 32 Oz</td>\n",
       "      <td>2.0</td>\n",
       "      <td>Alaffia</td>\n",
       "      <td>https://i5.walmartimages.com/asr/2988c323-cb6f...</td>\n",
       "      <td>5.0</td>\n",
       "    </tr>\n",
       "    <tr>\n",
       "      <th>2053</th>\n",
       "      <td>Gold Bond Ultimate Ultimate Healing Lotion, Al...</td>\n",
       "      <td>2.0</td>\n",
       "      <td>Gold Bond</td>\n",
       "      <td>https://i5.walmartimages.com/asr/34b610e7-05db...</td>\n",
       "      <td>5.0</td>\n",
       "    </tr>\n",
       "    <tr>\n",
       "      <th>4716</th>\n",
       "      <td>Versace Man Eau Fraiche Eau De Toilette Spray,...</td>\n",
       "      <td>24.0</td>\n",
       "      <td>Versace</td>\n",
       "      <td>https://i5.walmartimages.com/asr/edaaeed5-9da0...</td>\n",
       "      <td>5.0</td>\n",
       "    </tr>\n",
       "    <tr>\n",
       "      <th>2058</th>\n",
       "      <td>Goldwell StyleSign 1 Flat Marvel Straightening...</td>\n",
       "      <td>2.0</td>\n",
       "      <td>Goldwell</td>\n",
       "      <td>https://i5.walmartimages.com/asr/3bf90289-6980...</td>\n",
       "      <td>5.0</td>\n",
       "    </tr>\n",
       "    <tr>\n",
       "      <th>3842</th>\n",
       "      <td>Red Devil 0322 Steel Wool # 00 Very Fine, 8 Pa...</td>\n",
       "      <td>1.0</td>\n",
       "      <td>Red Devil</td>\n",
       "      <td>https://i5.walmartimages.com/asr/60bfe5ba-774c...</td>\n",
       "      <td>5.0</td>\n",
       "    </tr>\n",
       "    <tr>\n",
       "      <th>510</th>\n",
       "      <td>Air Wick Plug in Starter Kit, Warmer + 1 Refil...</td>\n",
       "      <td>1.0</td>\n",
       "      <td>Air Wick</td>\n",
       "      <td>https://i5.walmartimages.com/asr/0fac65b2-c6aa...</td>\n",
       "      <td>5.0</td>\n",
       "    </tr>\n",
       "    <tr>\n",
       "      <th>3841</th>\n",
       "      <td>Recovery Complex Anti-Frizz Shine Serum by Bai...</td>\n",
       "      <td>4.0</td>\n",
       "      <td>Bain de Terre</td>\n",
       "      <td>https://i5.walmartimages.com/asr/fcdb4d2e-3727...</td>\n",
       "      <td>5.0</td>\n",
       "    </tr>\n",
       "    <tr>\n",
       "      <th>2687</th>\n",
       "      <td>Long Aid Extra Dry Formula Curl Activator Gel ...</td>\n",
       "      <td>12.0</td>\n",
       "      <td>Long Aid</td>\n",
       "      <td>https://i5.walmartimages.com/asr/f7f29199-bfa5...</td>\n",
       "      <td>5.0</td>\n",
       "    </tr>\n",
       "    <tr>\n",
       "      <th>2062</th>\n",
       "      <td>Good Sense 60-Day Air Care System, Citrus, 2 o...</td>\n",
       "      <td>1.0</td>\n",
       "      <td>Diversey</td>\n",
       "      <td>https://i5.walmartimages.com/asr/025a7068-7bb1...</td>\n",
       "      <td>5.0</td>\n",
       "    </tr>\n",
       "  </tbody>\n",
       "</table>\n",
       "</div>"
      ],
      "text/plain": [
       "                                           Product Name  \\\n",
       "1686  Electric Shaver, Triple Shaving Time Electric ...   \n",
       "526                 Alaffia Body Lotion, Vanilla, 32 Oz   \n",
       "2053  Gold Bond Ultimate Ultimate Healing Lotion, Al...   \n",
       "4716  Versace Man Eau Fraiche Eau De Toilette Spray,...   \n",
       "2058  Goldwell StyleSign 1 Flat Marvel Straightening...   \n",
       "3842  Red Devil 0322 Steel Wool # 00 Very Fine, 8 Pa...   \n",
       "510   Air Wick Plug in Starter Kit, Warmer + 1 Refil...   \n",
       "3841  Recovery Complex Anti-Frizz Shine Serum by Bai...   \n",
       "2687  Long Aid Extra Dry Formula Curl Activator Gel ...   \n",
       "2062  Good Sense 60-Day Air Care System, Citrus, 2 o...   \n",
       "\n",
       "      Product Reviews Count  Product Brand  \\\n",
       "1686                    4.0         Moosoo   \n",
       "526                     2.0        Alaffia   \n",
       "2053                    2.0      Gold Bond   \n",
       "4716                   24.0        Versace   \n",
       "2058                    2.0       Goldwell   \n",
       "3842                    1.0      Red Devil   \n",
       "510                     1.0       Air Wick   \n",
       "3841                    4.0  Bain de Terre   \n",
       "2687                   12.0       Long Aid   \n",
       "2062                    1.0       Diversey   \n",
       "\n",
       "                                      Product Image Url  Product Rating  \n",
       "1686  https://i5.walmartimages.com/asr/e7dcd553-90df...             5.0  \n",
       "526   https://i5.walmartimages.com/asr/2988c323-cb6f...             5.0  \n",
       "2053  https://i5.walmartimages.com/asr/34b610e7-05db...             5.0  \n",
       "4716  https://i5.walmartimages.com/asr/edaaeed5-9da0...             5.0  \n",
       "2058  https://i5.walmartimages.com/asr/3bf90289-6980...             5.0  \n",
       "3842  https://i5.walmartimages.com/asr/60bfe5ba-774c...             5.0  \n",
       "510   https://i5.walmartimages.com/asr/0fac65b2-c6aa...             5.0  \n",
       "3841  https://i5.walmartimages.com/asr/fcdb4d2e-3727...             5.0  \n",
       "2687  https://i5.walmartimages.com/asr/f7f29199-bfa5...             5.0  \n",
       "2062  https://i5.walmartimages.com/asr/025a7068-7bb1...             5.0  "
      ]
     },
     "execution_count": 682,
     "metadata": {},
     "output_type": "execute_result"
    }
   ],
   "source": [
    "top_rated_items = average_ratings.sort_values(by='Product Rating', ascending=False)\n",
    "\n",
    "rating_base_recommendation = top_rated_items.head(10)\n",
    "rating_base_recommendation"
   ]
  },
  {
   "cell_type": "code",
   "execution_count": null,
   "id": "799e6e17-386f-483c-9801-a98b25703663",
   "metadata": {},
   "outputs": [],
   "source": []
  },
  {
   "cell_type": "code",
   "execution_count": 684,
   "id": "54a5683d-0c79-421f-9dff-bf7f9e1eb368",
   "metadata": {},
   "outputs": [
    {
     "name": "stderr",
     "output_type": "stream",
     "text": [
      "C:\\Users\\LENOVO\\AppData\\Local\\Temp\\ipykernel_2600\\822269010.py:1: SettingWithCopyWarning: \n",
      "A value is trying to be set on a copy of a slice from a DataFrame.\n",
      "Try using .loc[row_indexer,col_indexer] = value instead\n",
      "\n",
      "See the caveats in the documentation: https://pandas.pydata.org/pandas-docs/stable/user_guide/indexing.html#returning-a-view-versus-a-copy\n",
      "  rating_base_recommendation['Product Rating'] = rating_base_recommendation['Product Rating'].astype(int)\n",
      "C:\\Users\\LENOVO\\AppData\\Local\\Temp\\ipykernel_2600\\822269010.py:2: SettingWithCopyWarning: \n",
      "A value is trying to be set on a copy of a slice from a DataFrame.\n",
      "Try using .loc[row_indexer,col_indexer] = value instead\n",
      "\n",
      "See the caveats in the documentation: https://pandas.pydata.org/pandas-docs/stable/user_guide/indexing.html#returning-a-view-versus-a-copy\n",
      "  rating_base_recommendation['Product Reviews Count'] = rating_base_recommendation['Product Reviews Count'].astype(int)\n"
     ]
    }
   ],
   "source": [
    "rating_base_recommendation['Product Rating'] = rating_base_recommendation['Product Rating'].astype(int)\n",
    "rating_base_recommendation['Product Reviews Count'] = rating_base_recommendation['Product Reviews Count'].astype(int)\n"
   ]
  },
  {
   "cell_type": "code",
   "execution_count": 685,
   "id": "48916966-5a55-43a3-81e4-c9a4d1c686fd",
   "metadata": {},
   "outputs": [
    {
     "data": {
      "text/html": [
       "<div>\n",
       "<style scoped>\n",
       "    .dataframe tbody tr th:only-of-type {\n",
       "        vertical-align: middle;\n",
       "    }\n",
       "\n",
       "    .dataframe tbody tr th {\n",
       "        vertical-align: top;\n",
       "    }\n",
       "\n",
       "    .dataframe thead th {\n",
       "        text-align: right;\n",
       "    }\n",
       "</style>\n",
       "<table border=\"1\" class=\"dataframe\">\n",
       "  <thead>\n",
       "    <tr style=\"text-align: right;\">\n",
       "      <th></th>\n",
       "      <th>Product Name</th>\n",
       "      <th>Product Reviews Count</th>\n",
       "      <th>Product Brand</th>\n",
       "      <th>Product Image Url</th>\n",
       "      <th>Product Rating</th>\n",
       "    </tr>\n",
       "  </thead>\n",
       "  <tbody>\n",
       "    <tr>\n",
       "      <th>1686</th>\n",
       "      <td>Electric Shaver, Triple Shaving Time Electric ...</td>\n",
       "      <td>4</td>\n",
       "      <td>Moosoo</td>\n",
       "      <td>https://i5.walmartimages.com/asr/e7dcd553-90df...</td>\n",
       "      <td>5</td>\n",
       "    </tr>\n",
       "    <tr>\n",
       "      <th>526</th>\n",
       "      <td>Alaffia Body Lotion, Vanilla, 32 Oz</td>\n",
       "      <td>2</td>\n",
       "      <td>Alaffia</td>\n",
       "      <td>https://i5.walmartimages.com/asr/2988c323-cb6f...</td>\n",
       "      <td>5</td>\n",
       "    </tr>\n",
       "    <tr>\n",
       "      <th>2053</th>\n",
       "      <td>Gold Bond Ultimate Ultimate Healing Lotion, Al...</td>\n",
       "      <td>2</td>\n",
       "      <td>Gold Bond</td>\n",
       "      <td>https://i5.walmartimages.com/asr/34b610e7-05db...</td>\n",
       "      <td>5</td>\n",
       "    </tr>\n",
       "    <tr>\n",
       "      <th>4716</th>\n",
       "      <td>Versace Man Eau Fraiche Eau De Toilette Spray,...</td>\n",
       "      <td>24</td>\n",
       "      <td>Versace</td>\n",
       "      <td>https://i5.walmartimages.com/asr/edaaeed5-9da0...</td>\n",
       "      <td>5</td>\n",
       "    </tr>\n",
       "    <tr>\n",
       "      <th>2058</th>\n",
       "      <td>Goldwell StyleSign 1 Flat Marvel Straightening...</td>\n",
       "      <td>2</td>\n",
       "      <td>Goldwell</td>\n",
       "      <td>https://i5.walmartimages.com/asr/3bf90289-6980...</td>\n",
       "      <td>5</td>\n",
       "    </tr>\n",
       "    <tr>\n",
       "      <th>3842</th>\n",
       "      <td>Red Devil 0322 Steel Wool # 00 Very Fine, 8 Pa...</td>\n",
       "      <td>1</td>\n",
       "      <td>Red Devil</td>\n",
       "      <td>https://i5.walmartimages.com/asr/60bfe5ba-774c...</td>\n",
       "      <td>5</td>\n",
       "    </tr>\n",
       "    <tr>\n",
       "      <th>510</th>\n",
       "      <td>Air Wick Plug in Starter Kit, Warmer + 1 Refil...</td>\n",
       "      <td>1</td>\n",
       "      <td>Air Wick</td>\n",
       "      <td>https://i5.walmartimages.com/asr/0fac65b2-c6aa...</td>\n",
       "      <td>5</td>\n",
       "    </tr>\n",
       "    <tr>\n",
       "      <th>3841</th>\n",
       "      <td>Recovery Complex Anti-Frizz Shine Serum by Bai...</td>\n",
       "      <td>4</td>\n",
       "      <td>Bain de Terre</td>\n",
       "      <td>https://i5.walmartimages.com/asr/fcdb4d2e-3727...</td>\n",
       "      <td>5</td>\n",
       "    </tr>\n",
       "    <tr>\n",
       "      <th>2687</th>\n",
       "      <td>Long Aid Extra Dry Formula Curl Activator Gel ...</td>\n",
       "      <td>12</td>\n",
       "      <td>Long Aid</td>\n",
       "      <td>https://i5.walmartimages.com/asr/f7f29199-bfa5...</td>\n",
       "      <td>5</td>\n",
       "    </tr>\n",
       "    <tr>\n",
       "      <th>2062</th>\n",
       "      <td>Good Sense 60-Day Air Care System, Citrus, 2 o...</td>\n",
       "      <td>1</td>\n",
       "      <td>Diversey</td>\n",
       "      <td>https://i5.walmartimages.com/asr/025a7068-7bb1...</td>\n",
       "      <td>5</td>\n",
       "    </tr>\n",
       "  </tbody>\n",
       "</table>\n",
       "</div>"
      ],
      "text/plain": [
       "                                           Product Name  \\\n",
       "1686  Electric Shaver, Triple Shaving Time Electric ...   \n",
       "526                 Alaffia Body Lotion, Vanilla, 32 Oz   \n",
       "2053  Gold Bond Ultimate Ultimate Healing Lotion, Al...   \n",
       "4716  Versace Man Eau Fraiche Eau De Toilette Spray,...   \n",
       "2058  Goldwell StyleSign 1 Flat Marvel Straightening...   \n",
       "3842  Red Devil 0322 Steel Wool # 00 Very Fine, 8 Pa...   \n",
       "510   Air Wick Plug in Starter Kit, Warmer + 1 Refil...   \n",
       "3841  Recovery Complex Anti-Frizz Shine Serum by Bai...   \n",
       "2687  Long Aid Extra Dry Formula Curl Activator Gel ...   \n",
       "2062  Good Sense 60-Day Air Care System, Citrus, 2 o...   \n",
       "\n",
       "      Product Reviews Count  Product Brand  \\\n",
       "1686                      4         Moosoo   \n",
       "526                       2        Alaffia   \n",
       "2053                      2      Gold Bond   \n",
       "4716                     24        Versace   \n",
       "2058                      2       Goldwell   \n",
       "3842                      1      Red Devil   \n",
       "510                       1       Air Wick   \n",
       "3841                      4  Bain de Terre   \n",
       "2687                     12       Long Aid   \n",
       "2062                      1       Diversey   \n",
       "\n",
       "                                      Product Image Url  Product Rating  \n",
       "1686  https://i5.walmartimages.com/asr/e7dcd553-90df...               5  \n",
       "526   https://i5.walmartimages.com/asr/2988c323-cb6f...               5  \n",
       "2053  https://i5.walmartimages.com/asr/34b610e7-05db...               5  \n",
       "4716  https://i5.walmartimages.com/asr/edaaeed5-9da0...               5  \n",
       "2058  https://i5.walmartimages.com/asr/3bf90289-6980...               5  \n",
       "3842  https://i5.walmartimages.com/asr/60bfe5ba-774c...               5  \n",
       "510   https://i5.walmartimages.com/asr/0fac65b2-c6aa...               5  \n",
       "3841  https://i5.walmartimages.com/asr/fcdb4d2e-3727...               5  \n",
       "2687  https://i5.walmartimages.com/asr/f7f29199-bfa5...               5  \n",
       "2062  https://i5.walmartimages.com/asr/025a7068-7bb1...               5  "
      ]
     },
     "execution_count": 685,
     "metadata": {},
     "output_type": "execute_result"
    }
   ],
   "source": [
    "rating_base_recommendation"
   ]
  },
  {
   "cell_type": "code",
   "execution_count": 686,
   "id": "c8d645b1-4912-4b17-b7ad-3ab18dd007d5",
   "metadata": {},
   "outputs": [
    {
     "data": {
      "text/plain": [
       "Index(['Uniq Id', 'Crawl Timestamp', 'Product Id',\n",
       "       'Product Company Type Source', 'Product Category', 'Product Brand',\n",
       "       'Product Name', 'Product Price', 'Product Description',\n",
       "       'Product Image Url', 'Product Tags', 'Product Rating',\n",
       "       'Product Reviews Count', 'Joining Key'],\n",
       "      dtype='object')"
      ]
     },
     "execution_count": 686,
     "metadata": {},
     "output_type": "execute_result"
    }
   ],
   "source": [
    "dataO.columns"
   ]
  },
  {
   "cell_type": "code",
   "execution_count": null,
   "id": "20e9758c-c2b5-4e36-84d3-0bfdf1b45535",
   "metadata": {},
   "outputs": [],
   "source": []
  },
  {
   "cell_type": "code",
   "execution_count": null,
   "id": "9831f3b8-35b8-4f5a-8f0b-f407f72df21f",
   "metadata": {},
   "outputs": [],
   "source": []
  },
  {
   "cell_type": "code",
   "execution_count": null,
   "id": "ffd05429-4992-4c17-86e0-65c07814ef15",
   "metadata": {},
   "outputs": [],
   "source": []
  },
  {
   "cell_type": "code",
   "execution_count": 690,
   "id": "9787ca24-ff7c-485a-9555-3b83063e4f41",
   "metadata": {},
   "outputs": [
    {
     "data": {
      "text/plain": [
       "<5000x7084 sparse matrix of type '<class 'numpy.float64'>'\n",
       "\twith 67589 stored elements in Compressed Sparse Row format>"
      ]
     },
     "execution_count": 690,
     "metadata": {},
     "output_type": "execute_result"
    }
   ],
   "source": [
    "from sklearn.feature_extraction.text import TfidfVectorizer\n",
    "from sklearn.metrics.pairwise import cosine_similarity\n",
    "\n",
    "tfidf_vectorizer = TfidfVectorizer(stop_words='english')\n",
    "tfidf_vectorizer.fit_transform(dataO['Product Tags'])"
   ]
  },
  {
   "cell_type": "code",
   "execution_count": 691,
   "id": "62e1462d-ab52-4084-a850-95259423346d",
   "metadata": {},
   "outputs": [],
   "source": [
    "tfidf_matrix_content = tfidf_vectorizer.fit_transform(dataO['Product Tags'])\n",
    "cosine_similarities_content = cosine_similarity(tfidf_matrix_content,tfidf_matrix_content)\n"
   ]
  },
  {
   "cell_type": "code",
   "execution_count": 692,
   "id": "cf545c07-cd9a-4328-b952-423f51e14836",
   "metadata": {},
   "outputs": [
    {
     "data": {
      "text/plain": [
       "array([[1.        , 0.01317493, 0.01182614, ..., 0.10132348, 0.01249521,\n",
       "        0.04414909],\n",
       "       [0.01317493, 1.        , 0.40297257, ..., 0.00605861, 0.01205174,\n",
       "        0.04258219],\n",
       "       [0.01182614, 0.40297257, 1.        , ..., 0.03722526, 0.01081794,\n",
       "        0.03822285],\n",
       "       ...,\n",
       "       [0.10132348, 0.00605861, 0.03722526, ..., 1.        , 0.00574604,\n",
       "        0.02030237],\n",
       "       [0.01249521, 0.01205174, 0.01081794, ..., 0.00574604, 1.        ,\n",
       "        0.04038529],\n",
       "       [0.04414909, 0.04258219, 0.03822285, ..., 0.02030237, 0.04038529,\n",
       "        1.        ]])"
      ]
     },
     "execution_count": 692,
     "metadata": {},
     "output_type": "execute_result"
    }
   ],
   "source": [
    "cosine_similarities_content"
   ]
  },
  {
   "cell_type": "code",
   "execution_count": 693,
   "id": "48a1614f-9233-4dde-b777-52de74961226",
   "metadata": {},
   "outputs": [
    {
     "data": {
      "text/plain": [
       "'Clairol Nice N Easy Permanent Color 7/106A Natural Dark Neutral Blonde, 1.0 KIT'"
      ]
     },
     "execution_count": 693,
     "metadata": {},
     "output_type": "execute_result"
    }
   ],
   "source": [
    "dataO['Product Name'][2]"
   ]
  },
  {
   "cell_type": "code",
   "execution_count": 694,
   "id": "5ecdfeb8-ad9f-410f-aa09-dc428b558938",
   "metadata": {},
   "outputs": [],
   "source": [
    "item_name = 'Clairol Nice N Easy Permanent Color 7/106A Natural Dark Neutral Blonde, 1.0 KIT'\n",
    "item_index = dataO[dataO['Product Name']==item_name].index[0]\n"
   ]
  },
  {
   "cell_type": "code",
   "execution_count": 695,
   "id": "fd6d8844-b0f3-4397-8709-a7ae7823bf42",
   "metadata": {},
   "outputs": [
    {
     "data": {
      "text/plain": [
       "array([0.01182614, 0.40297257, 1.        , ..., 0.03722526, 0.01081794,\n",
       "       0.03822285])"
      ]
     },
     "execution_count": 695,
     "metadata": {},
     "output_type": "execute_result"
    }
   ],
   "source": [
    "cosine_similarities_content[item_index]\n",
    "#This line retrieves the similarity scores for the item located at item_index against all other items in your dataset."
   ]
  },
  {
   "cell_type": "code",
   "execution_count": 696,
   "id": "10f0aeac-c224-4c50-bbaf-1b95f25c48f7",
   "metadata": {},
   "outputs": [
    {
     "data": {
      "text/plain": [
       "<enumerate at 0x27007e93970>"
      ]
     },
     "execution_count": 696,
     "metadata": {},
     "output_type": "execute_result"
    }
   ],
   "source": [
    "enumerate(cosine_similarities_content[item_index])"
   ]
  },
  {
   "cell_type": "code",
   "execution_count": 697,
   "id": "00527406-8498-4e3c-a42a-b8d48a7276e4",
   "metadata": {},
   "outputs": [],
   "source": [
    "similar_items = list(enumerate(cosine_similarities_content[item_index]))\n"
   ]
  },
  {
   "cell_type": "code",
   "execution_count": 698,
   "id": "b8afbbcd-1ee6-436e-af07-79384395186a",
   "metadata": {},
   "outputs": [],
   "source": [
    "similar_items = sorted(similar_items, key=lambda x:x[1], reverse=True)\n",
    "top_similar_items = similar_items[1:10]"
   ]
  },
  {
   "cell_type": "code",
   "execution_count": 699,
   "id": "29dc4568-a732-4ade-9cee-066cf1c68b53",
   "metadata": {},
   "outputs": [
    {
     "data": {
      "text/plain": [
       "[(883, 0.7151488028462636),\n",
       " (646, 0.6572166729672899),\n",
       " (3571, 0.5540690051904059),\n",
       " (1267, 0.5122143338653338),\n",
       " (197, 0.4911386864186568),\n",
       " (3077, 0.48362654203599004),\n",
       " (3901, 0.4798518191109799),\n",
       " (3283, 0.4726583440872403),\n",
       " (766, 0.46025578061614103)]"
      ]
     },
     "execution_count": 699,
     "metadata": {},
     "output_type": "execute_result"
    }
   ],
   "source": [
    "top_similar_items"
   ]
  },
  {
   "cell_type": "code",
   "execution_count": 700,
   "id": "0b27935b-2e6d-442a-be4c-877d28023d56",
   "metadata": {},
   "outputs": [
    {
     "data": {
      "text/plain": [
       "[883, 646, 3571, 1267, 197, 3077, 3901, 3283, 766]"
      ]
     },
     "execution_count": 700,
     "metadata": {},
     "output_type": "execute_result"
    }
   ],
   "source": [
    "[x[0] for x in top_similar_items]"
   ]
  },
  {
   "cell_type": "code",
   "execution_count": 701,
   "id": "bab9cfd4-a3e9-4ae7-8716-ab5d51174a81",
   "metadata": {},
   "outputs": [],
   "source": [
    "recommended_items_indics = [x[0] for x in top_similar_items]"
   ]
  },
  {
   "cell_type": "code",
   "execution_count": 702,
   "id": "90d2216b-1133-4ea7-9b61-4fcc03e3919c",
   "metadata": {},
   "outputs": [
    {
     "data": {
      "text/plain": [
       "Index(['Uniq Id', 'Crawl Timestamp', 'Product Id',\n",
       "       'Product Company Type Source', 'Product Category', 'Product Brand',\n",
       "       'Product Name', 'Product Price', 'Product Description',\n",
       "       'Product Image Url', 'Product Tags', 'Product Rating',\n",
       "       'Product Reviews Count', 'Joining Key'],\n",
       "      dtype='object')"
      ]
     },
     "execution_count": 702,
     "metadata": {},
     "output_type": "execute_result"
    }
   ],
   "source": [
    "dataO.columns"
   ]
  },
  {
   "cell_type": "code",
   "execution_count": 704,
   "id": "9a1bc5ef-7f55-495b-9206-acd86805fe9f",
   "metadata": {},
   "outputs": [
    {
     "data": {
      "text/html": [
       "<div>\n",
       "<style scoped>\n",
       "    .dataframe tbody tr th:only-of-type {\n",
       "        vertical-align: middle;\n",
       "    }\n",
       "\n",
       "    .dataframe tbody tr th {\n",
       "        vertical-align: top;\n",
       "    }\n",
       "\n",
       "    .dataframe thead th {\n",
       "        text-align: right;\n",
       "    }\n",
       "</style>\n",
       "<table border=\"1\" class=\"dataframe\">\n",
       "  <thead>\n",
       "    <tr style=\"text-align: right;\">\n",
       "      <th></th>\n",
       "      <th>Product Name</th>\n",
       "      <th>Product Reviews Count</th>\n",
       "      <th>Product Brand</th>\n",
       "    </tr>\n",
       "  </thead>\n",
       "  <tbody>\n",
       "    <tr>\n",
       "      <th>883</th>\n",
       "      <td>Clairol Nice n Easy Permanent Hair Color, Natu...</td>\n",
       "      <td>29216.0</td>\n",
       "      <td>Clairol</td>\n",
       "    </tr>\n",
       "    <tr>\n",
       "      <th>646</th>\n",
       "      <td>Clairol nice n easy permanent hair color 4/120...</td>\n",
       "      <td>29221.0</td>\n",
       "      <td>Clairol</td>\n",
       "    </tr>\n",
       "    <tr>\n",
       "      <th>3571</th>\n",
       "      <td>Clairol Nice N Easy Permanent Hair Color Creme...</td>\n",
       "      <td>28382.0</td>\n",
       "      <td>Clairol</td>\n",
       "    </tr>\n",
       "    <tr>\n",
       "      <th>1267</th>\n",
       "      <td>Clairol Nicen Easy Permanent Hair Color Crème ...</td>\n",
       "      <td>27658.0</td>\n",
       "      <td>Clairol</td>\n",
       "    </tr>\n",
       "    <tr>\n",
       "      <th>197</th>\n",
       "      <td>Clairol Nice N Easy Permanent Color 6G/116A Na...</td>\n",
       "      <td>29221.0</td>\n",
       "      <td>Clairol</td>\n",
       "    </tr>\n",
       "    <tr>\n",
       "      <th>3077</th>\n",
       "      <td>Clairol Nice n Easy Sun-Kissed Permanent Hair ...</td>\n",
       "      <td>29242.0</td>\n",
       "      <td>Clairol</td>\n",
       "    </tr>\n",
       "    <tr>\n",
       "      <th>3901</th>\n",
       "      <td>Clairol Nice n Easy Permanent Hair Color Creme...</td>\n",
       "      <td>28382.0</td>\n",
       "      <td>Clairol</td>\n",
       "    </tr>\n",
       "    <tr>\n",
       "      <th>3283</th>\n",
       "      <td>Clairol Nice n Easy Permanent Hair Color Creme...</td>\n",
       "      <td>28392.0</td>\n",
       "      <td>Clairol</td>\n",
       "    </tr>\n",
       "    <tr>\n",
       "      <th>766</th>\n",
       "      <td>Clairol Nicen Easy Permanent Hair Color Crème ...</td>\n",
       "      <td>28678.0</td>\n",
       "      <td>Clairol</td>\n",
       "    </tr>\n",
       "  </tbody>\n",
       "</table>\n",
       "</div>"
      ],
      "text/plain": [
       "                                           Product Name  \\\n",
       "883   Clairol Nice n Easy Permanent Hair Color, Natu...   \n",
       "646   Clairol nice n easy permanent hair color 4/120...   \n",
       "3571  Clairol Nice N Easy Permanent Hair Color Creme...   \n",
       "1267  Clairol Nicen Easy Permanent Hair Color Crème ...   \n",
       "197   Clairol Nice N Easy Permanent Color 6G/116A Na...   \n",
       "3077  Clairol Nice n Easy Sun-Kissed Permanent Hair ...   \n",
       "3901  Clairol Nice n Easy Permanent Hair Color Creme...   \n",
       "3283  Clairol Nice n Easy Permanent Hair Color Creme...   \n",
       "766   Clairol Nicen Easy Permanent Hair Color Crème ...   \n",
       "\n",
       "      Product Reviews Count Product Brand  \n",
       "883                 29216.0       Clairol  \n",
       "646                 29221.0       Clairol  \n",
       "3571                28382.0       Clairol  \n",
       "1267                27658.0       Clairol  \n",
       "197                 29221.0       Clairol  \n",
       "3077                29242.0       Clairol  \n",
       "3901                28382.0       Clairol  \n",
       "3283                28392.0       Clairol  \n",
       "766                 28678.0       Clairol  "
      ]
     },
     "execution_count": 704,
     "metadata": {},
     "output_type": "execute_result"
    }
   ],
   "source": [
    "dataO.iloc[recommended_items_indics][['Product Name','Product Reviews Count','Product Brand']]\n"
   ]
  },
  {
   "cell_type": "code",
   "execution_count": null,
   "id": "ed6395ed-b7f4-4622-b3f4-498e2d1104a7",
   "metadata": {},
   "outputs": [],
   "source": []
  },
  {
   "cell_type": "code",
   "execution_count": null,
   "id": "196ebeac-b2fe-4bca-8dff-c236f2ba5063",
   "metadata": {},
   "outputs": [],
   "source": []
  },
  {
   "cell_type": "code",
   "execution_count": 709,
   "id": "078c2e4d-e68a-4646-bfd8-f92e89adfa75",
   "metadata": {},
   "outputs": [],
   "source": [
    "from sklearn.feature_extraction.text import TfidfVectorizer\n",
    "from sklearn.metrics.pairwise import cosine_similarity\n",
    "\n",
    "def content_based_recommendations(dataO, item_name, top_n=10):\n",
    "    # Check if the item name exists in the training data\n",
    "    if item_name not in dataO['Product Name'].values:\n",
    "        print(f\"Item '{item_name}' not found in the training data.\")\n",
    "        return pd.DataFrame()\n",
    "\n",
    "    # Create a TF-IDF vectorizer for item descriptions\n",
    "    tfidf_vectorizer = TfidfVectorizer(stop_words='english')\n",
    "\n",
    "    # Apply TF-IDF vectorization to item descriptions\n",
    "    tfidf_matrix_content = tfidf_vectorizer.fit_transform(dataO['Product Tags'])\n",
    "\n",
    "    # Calculate cosine similarity between items based on descriptions\n",
    "    cosine_similarities_content = cosine_similarity(tfidf_matrix_content, tfidf_matrix_content)\n",
    "\n",
    "    # Find the index of the item\n",
    "    item_index = dataO[dataO['Product Name'] == item_name].index[0]\n",
    "\n",
    "    # Get the cosine similarity scores for the item\n",
    "    similar_items = list(enumerate(cosine_similarities_content[item_index]))\n",
    "\n",
    "    # Sort similar items by similarity score in descending order\n",
    "    similar_items = sorted(similar_items, key=lambda x: x[1], reverse=True)\n",
    "\n",
    "    # Get the top N most similar items (excluding the item itself)\n",
    "    top_similar_items = similar_items[1:top_n+1]\n",
    "\n",
    "    # Get the indices of the top similar items\n",
    "    recommended_item_indices = [x[0] for x in top_similar_items]\n",
    "\n",
    "    # Get the details of the top similar items\n",
    "    recommended_items_details = dataO.iloc[recommended_item_indices][['Product Name', 'Product Reviews Count', 'Product Brand', 'Product Image Url', 'Product Rating']]\n",
    "\n",
    "    return recommended_items_details"
   ]
  },
  {
   "cell_type": "code",
   "execution_count": 710,
   "id": "7f325183-f244-4814-9021-f26b6db390f2",
   "metadata": {},
   "outputs": [
    {
     "data": {
      "text/html": [
       "<div>\n",
       "<style scoped>\n",
       "    .dataframe tbody tr th:only-of-type {\n",
       "        vertical-align: middle;\n",
       "    }\n",
       "\n",
       "    .dataframe tbody tr th {\n",
       "        vertical-align: top;\n",
       "    }\n",
       "\n",
       "    .dataframe thead th {\n",
       "        text-align: right;\n",
       "    }\n",
       "</style>\n",
       "<table border=\"1\" class=\"dataframe\">\n",
       "  <thead>\n",
       "    <tr style=\"text-align: right;\">\n",
       "      <th></th>\n",
       "      <th>Product Name</th>\n",
       "      <th>Product Reviews Count</th>\n",
       "      <th>Product Brand</th>\n",
       "      <th>Product Image Url</th>\n",
       "      <th>Product Rating</th>\n",
       "    </tr>\n",
       "  </thead>\n",
       "  <tbody>\n",
       "    <tr>\n",
       "      <th>883</th>\n",
       "      <td>Clairol Nice n Easy Permanent Hair Color, Natu...</td>\n",
       "      <td>29216.0</td>\n",
       "      <td>Clairol</td>\n",
       "      <td>https://i5.walmartimages.com/asr/815395cc-87a5...</td>\n",
       "      <td>4.5</td>\n",
       "    </tr>\n",
       "    <tr>\n",
       "      <th>646</th>\n",
       "      <td>Clairol nice n easy permanent hair color 4/120...</td>\n",
       "      <td>29221.0</td>\n",
       "      <td>Clairol</td>\n",
       "      <td>https://i5.walmartimages.com/asr/924961cf-23ac...</td>\n",
       "      <td>4.5</td>\n",
       "    </tr>\n",
       "    <tr>\n",
       "      <th>3571</th>\n",
       "      <td>Clairol Nice N Easy Permanent Hair Color Creme...</td>\n",
       "      <td>28382.0</td>\n",
       "      <td>Clairol</td>\n",
       "      <td>https://i5.walmartimages.com/asr/9ced8de9-d057...</td>\n",
       "      <td>4.5</td>\n",
       "    </tr>\n",
       "    <tr>\n",
       "      <th>1267</th>\n",
       "      <td>Clairol Nicen Easy Permanent Hair Color Crème ...</td>\n",
       "      <td>27658.0</td>\n",
       "      <td>Clairol</td>\n",
       "      <td>https://i5.walmartimages.com/asr/cbda81b9-75a6...</td>\n",
       "      <td>4.5</td>\n",
       "    </tr>\n",
       "    <tr>\n",
       "      <th>197</th>\n",
       "      <td>Clairol Nice N Easy Permanent Color 6G/116A Na...</td>\n",
       "      <td>29221.0</td>\n",
       "      <td>Clairol</td>\n",
       "      <td>https://i5.walmartimages.com/asr/8ede5176-2b60...</td>\n",
       "      <td>4.5</td>\n",
       "    </tr>\n",
       "    <tr>\n",
       "      <th>3077</th>\n",
       "      <td>Clairol Nice n Easy Sun-Kissed Permanent Hair ...</td>\n",
       "      <td>29242.0</td>\n",
       "      <td>Clairol</td>\n",
       "      <td>https://i5.walmartimages.com/asr/8adedd89-c601...</td>\n",
       "      <td>0.0</td>\n",
       "    </tr>\n",
       "    <tr>\n",
       "      <th>3901</th>\n",
       "      <td>Clairol Nice n Easy Permanent Hair Color Creme...</td>\n",
       "      <td>28382.0</td>\n",
       "      <td>Clairol</td>\n",
       "      <td>https://i5.walmartimages.com/asr/2a775298-9f91...</td>\n",
       "      <td>4.5</td>\n",
       "    </tr>\n",
       "    <tr>\n",
       "      <th>3283</th>\n",
       "      <td>Clairol Nice n Easy Permanent Hair Color Creme...</td>\n",
       "      <td>28392.0</td>\n",
       "      <td>Clairol</td>\n",
       "      <td>https://i5.walmartimages.com/asr/52068b89-c6ed...</td>\n",
       "      <td>4.5</td>\n",
       "    </tr>\n",
       "  </tbody>\n",
       "</table>\n",
       "</div>"
      ],
      "text/plain": [
       "                                           Product Name  \\\n",
       "883   Clairol Nice n Easy Permanent Hair Color, Natu...   \n",
       "646   Clairol nice n easy permanent hair color 4/120...   \n",
       "3571  Clairol Nice N Easy Permanent Hair Color Creme...   \n",
       "1267  Clairol Nicen Easy Permanent Hair Color Crème ...   \n",
       "197   Clairol Nice N Easy Permanent Color 6G/116A Na...   \n",
       "3077  Clairol Nice n Easy Sun-Kissed Permanent Hair ...   \n",
       "3901  Clairol Nice n Easy Permanent Hair Color Creme...   \n",
       "3283  Clairol Nice n Easy Permanent Hair Color Creme...   \n",
       "\n",
       "      Product Reviews Count Product Brand  \\\n",
       "883                 29216.0       Clairol   \n",
       "646                 29221.0       Clairol   \n",
       "3571                28382.0       Clairol   \n",
       "1267                27658.0       Clairol   \n",
       "197                 29221.0       Clairol   \n",
       "3077                29242.0       Clairol   \n",
       "3901                28382.0       Clairol   \n",
       "3283                28392.0       Clairol   \n",
       "\n",
       "                                      Product Image Url  Product Rating  \n",
       "883   https://i5.walmartimages.com/asr/815395cc-87a5...             4.5  \n",
       "646   https://i5.walmartimages.com/asr/924961cf-23ac...             4.5  \n",
       "3571  https://i5.walmartimages.com/asr/9ced8de9-d057...             4.5  \n",
       "1267  https://i5.walmartimages.com/asr/cbda81b9-75a6...             4.5  \n",
       "197   https://i5.walmartimages.com/asr/8ede5176-2b60...             4.5  \n",
       "3077  https://i5.walmartimages.com/asr/8adedd89-c601...             0.0  \n",
       "3901  https://i5.walmartimages.com/asr/2a775298-9f91...             4.5  \n",
       "3283  https://i5.walmartimages.com/asr/52068b89-c6ed...             4.5  "
      ]
     },
     "execution_count": 710,
     "metadata": {},
     "output_type": "execute_result"
    }
   ],
   "source": [
    "# Example: Get content-based recommendations for a specific item\n",
    "item_name = 'Clairol Nice N Easy Permanent Color 7/106A Natural Dark Neutral Blonde, 1.0 KIT'\n",
    "content_based_rec = content_based_recommendations(dataO, item_name, top_n=8)\n",
    "\n",
    "content_based_rec"
   ]
  },
  {
   "cell_type": "code",
   "execution_count": null,
   "id": "15a804cf-e0a4-4cde-b4de-6325671184e9",
   "metadata": {},
   "outputs": [],
   "source": []
  },
  {
   "cell_type": "code",
   "execution_count": 712,
   "id": "f5aeaf77-c437-4b92-a366-4e8aebae21d4",
   "metadata": {},
   "outputs": [],
   "source": [
    "from sklearn.model_selection import train_test_split\n",
    "\n",
    "# Split data into train and test sets (80% train, 20% test)\n",
    "train_data, test_data = train_test_split(dataO, test_size=0.3, random_state=42)\n"
   ]
  },
  {
   "cell_type": "code",
   "execution_count": 713,
   "id": "234f0f4a-bae0-49b1-a010-72941e007ed8",
   "metadata": {},
   "outputs": [
    {
     "data": {
      "text/plain": [
       "(3500, 14)"
      ]
     },
     "execution_count": 713,
     "metadata": {},
     "output_type": "execute_result"
    }
   ],
   "source": [
    "train_data.shape"
   ]
  },
  {
   "cell_type": "code",
   "execution_count": 714,
   "id": "3538f4bd-3207-45a0-abf3-b49a5848ba7d",
   "metadata": {},
   "outputs": [],
   "source": [
    "from sklearn.metrics import precision_score, recall_score, f1_score, accuracy_score\n",
    "\n",
    "# Content-based recommendation function remains the same\n",
    "def content_based_recommendations(train_data, item_name, top_n=10):\n",
    "    # Check if the item name exists in the training data\n",
    "    if item_name not in train_data['Product Name'].values:\n",
    "        return pd.DataFrame()\n",
    "    \n",
    "    # Create a TF-IDF vectorizer for item tags\n",
    "    tfidf_vectorizer = TfidfVectorizer(stop_words='english')\n",
    "    tfidf_matrix_content = tfidf_vectorizer.fit_transform(train_data['Product Tags'])\n",
    "    \n",
    "    # Calculate cosine similarity\n",
    "    cosine_similarities_content = cosine_similarity(tfidf_matrix_content, tfidf_matrix_content)\n",
    "    \n",
    "    # Find the index of the item\n",
    "    item_index = train_data[train_data['Product Name'] == item_name].index[0]\n",
    "    \n",
    "    # Get similarity scores for this item\n",
    "    similar_items = list(enumerate(cosine_similarities_content[item_index]))\n",
    "    \n",
    "    # Sort by similarity score\n",
    "    similar_items = sorted(similar_items, key=lambda x: x[1], reverse=True)\n",
    "    \n",
    "    # Get top N recommendations, excluding the item itself\n",
    "    top_similar_items = similar_items[1:top_n+1]\n",
    "    \n",
    "    # Get indices of recommended items\n",
    "    recommended_item_indices = [x[0] for x in top_similar_items]\n",
    "    \n",
    "    # Return the recommended item details\n",
    "    return train_data.iloc[recommended_item_indices][['Product Name', 'Product Reviews Count', 'Product Brand']]\n",
    "\n"
   ]
  },
  {
   "cell_type": "code",
   "execution_count": 728,
   "id": "23d4a0e3-5a99-46d6-8c91-0e4873e9e8b3",
   "metadata": {},
   "outputs": [
    {
     "name": "stdout",
     "output_type": "stream",
     "text": [
      "Precision: 0.1\n",
      "Recall: 0.0006666666666666666\n",
      "F1 Score: 0.0013245033112582781\n",
      "Accuracy: 0.5641618497109827\n"
     ]
    }
   ],
   "source": [
    "def evaluate_recommendations_without_k(recommendations, test_data, all_items):\n",
    "    # Get the list of items in the test set\n",
    "    test_items = test_data['Product Name'].values\n",
    "    \n",
    "    # Get the list of recommended items\n",
    "    recommended_items = recommendations['Product Name'].values\n",
    "    \n",
    "    # Calculate the overlap between the recommended items and the test items\n",
    "    relevant_items_in_test = len(set(recommended_items).intersection(set(test_items)))\n",
    "    \n",
    "    # Precision: How many of the recommended items are in the test set\n",
    "    precision = relevant_items_in_test / len(recommended_items) if len(recommended_items) > 0 else 0\n",
    "    \n",
    "    # Recall: How many of the test items are in the recommended list\n",
    "    recall = relevant_items_in_test / len(test_items) if len(test_items) > 0 else 0\n",
    "    \n",
    "    # F1 Score: Harmonic mean of precision and recall\n",
    "    if precision + recall == 0:\n",
    "        f1_score = 0\n",
    "    else:\n",
    "        f1_score = 2 * (precision * recall) / (precision + recall)\n",
    "    \n",
    "    # Accuracy: The proportion of correct recommendations (true positives + true negatives) \n",
    "    total_items = len(all_items)  # Total unique items available\n",
    "    true_positives = relevant_items_in_test\n",
    "    false_positives = len(recommended_items) - true_positives\n",
    "    false_negatives = len(test_items) - true_positives\n",
    "    true_negatives = total_items - (true_positives + false_positives + false_negatives)\n",
    "    \n",
    "    accuracy = (true_positives + true_negatives) / total_items if total_items > 0 else 0\n",
    "    \n",
    "    return precision, recall, f1_score, accuracy\n",
    "\n",
    "# Example usage\n",
    "item_name = \"Clairol Nice N Easy Permanent Color 7/106A Natural Dark Neutral Blonde, 1.0 KIT\"\n",
    "recommendations = content_based_recommendations(train_data, item_name, top_n=10)\n",
    "\n",
    "# Assuming 'all_items' is a list of all product names in the dataset\n",
    "all_items = train_data['Product Name'].unique()\n",
    "\n",
    "# Evaluate the recommendations based on overlap with the test data\n",
    "precision, recall, f1_score, accuracy = evaluate_recommendations_without_k(recommendations, test_data, all_items)\n",
    "\n",
    "print(f\"Precision: {precision}\")\n",
    "print(f\"Recall: {recall}\")\n",
    "print(f\"F1 Score: {f1_score}\")\n",
    "print(f\"Accuracy: {accuracy}\")\n"
   ]
  },
  {
   "cell_type": "code",
   "execution_count": null,
   "id": "5143bdf5-a0f2-4b3a-bdb3-78ba8f2aeb75",
   "metadata": {},
   "outputs": [],
   "source": []
  },
  {
   "cell_type": "code",
   "execution_count": 722,
   "id": "7d16916e-7626-46ea-b6cb-a4b8f04e11d8",
   "metadata": {},
   "outputs": [
    {
     "ename": "KeyError",
     "evalue": "'Product Name'",
     "output_type": "error",
     "traceback": [
      "\u001b[1;31m---------------------------------------------------------------------------\u001b[0m",
      "\u001b[1;31mKeyError\u001b[0m                                  Traceback (most recent call last)",
      "Cell \u001b[1;32mIn[722], line 42\u001b[0m\n\u001b[0;32m     39\u001b[0m all_items \u001b[38;5;241m=\u001b[39m train_data[\u001b[38;5;124m'\u001b[39m\u001b[38;5;124mProduct Name\u001b[39m\u001b[38;5;124m'\u001b[39m]\u001b[38;5;241m.\u001b[39munique()\n\u001b[0;32m     41\u001b[0m \u001b[38;5;66;03m# Evaluate the recommendations based on overlap with the test data\u001b[39;00m\n\u001b[1;32m---> 42\u001b[0m precision, recall, f1_score, accuracy \u001b[38;5;241m=\u001b[39m evaluate_recommendations_without_k(recommendations, test_data, all_items)\n\u001b[0;32m     44\u001b[0m \u001b[38;5;28mprint\u001b[39m(\u001b[38;5;124mf\u001b[39m\u001b[38;5;124m\"\u001b[39m\u001b[38;5;124mPrecision: \u001b[39m\u001b[38;5;132;01m{\u001b[39;00mprecision\u001b[38;5;132;01m}\u001b[39;00m\u001b[38;5;124m\"\u001b[39m)\n\u001b[0;32m     45\u001b[0m \u001b[38;5;28mprint\u001b[39m(\u001b[38;5;124mf\u001b[39m\u001b[38;5;124m\"\u001b[39m\u001b[38;5;124mRecall: \u001b[39m\u001b[38;5;132;01m{\u001b[39;00mrecall\u001b[38;5;132;01m}\u001b[39;00m\u001b[38;5;124m\"\u001b[39m)\n",
      "Cell \u001b[1;32mIn[722], line 6\u001b[0m, in \u001b[0;36mevaluate_recommendations_without_k\u001b[1;34m(recommendations, test_data, all_items)\u001b[0m\n\u001b[0;32m      3\u001b[0m test_items \u001b[38;5;241m=\u001b[39m test_data[\u001b[38;5;124m'\u001b[39m\u001b[38;5;124mProduct Name\u001b[39m\u001b[38;5;124m'\u001b[39m]\u001b[38;5;241m.\u001b[39mvalues\n\u001b[0;32m      5\u001b[0m \u001b[38;5;66;03m# Get the list of recommended items\u001b[39;00m\n\u001b[1;32m----> 6\u001b[0m recommended_items \u001b[38;5;241m=\u001b[39m recommendations[\u001b[38;5;124m'\u001b[39m\u001b[38;5;124mProduct Name\u001b[39m\u001b[38;5;124m'\u001b[39m]\u001b[38;5;241m.\u001b[39mvalues\n\u001b[0;32m      8\u001b[0m \u001b[38;5;66;03m# Calculate the overlap between the recommended items and the test items\u001b[39;00m\n\u001b[0;32m      9\u001b[0m relevant_items_in_test \u001b[38;5;241m=\u001b[39m \u001b[38;5;28mlen\u001b[39m(\u001b[38;5;28mset\u001b[39m(recommended_items)\u001b[38;5;241m.\u001b[39mintersection(\u001b[38;5;28mset\u001b[39m(test_items)))\n",
      "File \u001b[1;32m~\\anaconda3\\Lib\\site-packages\\pandas\\core\\frame.py:4102\u001b[0m, in \u001b[0;36mDataFrame.__getitem__\u001b[1;34m(self, key)\u001b[0m\n\u001b[0;32m   4100\u001b[0m \u001b[38;5;28;01mif\u001b[39;00m \u001b[38;5;28mself\u001b[39m\u001b[38;5;241m.\u001b[39mcolumns\u001b[38;5;241m.\u001b[39mnlevels \u001b[38;5;241m>\u001b[39m \u001b[38;5;241m1\u001b[39m:\n\u001b[0;32m   4101\u001b[0m     \u001b[38;5;28;01mreturn\u001b[39;00m \u001b[38;5;28mself\u001b[39m\u001b[38;5;241m.\u001b[39m_getitem_multilevel(key)\n\u001b[1;32m-> 4102\u001b[0m indexer \u001b[38;5;241m=\u001b[39m \u001b[38;5;28mself\u001b[39m\u001b[38;5;241m.\u001b[39mcolumns\u001b[38;5;241m.\u001b[39mget_loc(key)\n\u001b[0;32m   4103\u001b[0m \u001b[38;5;28;01mif\u001b[39;00m is_integer(indexer):\n\u001b[0;32m   4104\u001b[0m     indexer \u001b[38;5;241m=\u001b[39m [indexer]\n",
      "File \u001b[1;32m~\\anaconda3\\Lib\\site-packages\\pandas\\core\\indexes\\range.py:417\u001b[0m, in \u001b[0;36mRangeIndex.get_loc\u001b[1;34m(self, key)\u001b[0m\n\u001b[0;32m    415\u001b[0m         \u001b[38;5;28;01mraise\u001b[39;00m \u001b[38;5;167;01mKeyError\u001b[39;00m(key) \u001b[38;5;28;01mfrom\u001b[39;00m \u001b[38;5;21;01merr\u001b[39;00m\n\u001b[0;32m    416\u001b[0m \u001b[38;5;28;01mif\u001b[39;00m \u001b[38;5;28misinstance\u001b[39m(key, Hashable):\n\u001b[1;32m--> 417\u001b[0m     \u001b[38;5;28;01mraise\u001b[39;00m \u001b[38;5;167;01mKeyError\u001b[39;00m(key)\n\u001b[0;32m    418\u001b[0m \u001b[38;5;28mself\u001b[39m\u001b[38;5;241m.\u001b[39m_check_indexing_error(key)\n\u001b[0;32m    419\u001b[0m \u001b[38;5;28;01mraise\u001b[39;00m \u001b[38;5;167;01mKeyError\u001b[39;00m(key)\n",
      "\u001b[1;31mKeyError\u001b[0m: 'Product Name'"
     ]
    }
   ],
   "source": [
    "def evaluate_recommendations_without_k(recommendations, test_data, all_items):\n",
    "    # Get the list of items in the test set\n",
    "    test_items = test_data['Product Name'].values\n",
    "    \n",
    "    # Get the list of recommended items\n",
    "    recommended_items = recommendations['Product Name'].values\n",
    "    \n",
    "    # Calculate the overlap between the recommended items and the test items\n",
    "    relevant_items_in_test = len(set(recommended_items).intersection(set(test_items)))\n",
    "    \n",
    "    # Precision: How many of the recommended items are in the test set\n",
    "    precision = relevant_items_in_test / len(recommended_items) if len(recommended_items) > 0 else 0\n",
    "    \n",
    "    # Recall: How many of the test items are in the recommended list\n",
    "    recall = relevant_items_in_test / len(test_items) if len(test_items) > 0 else 0\n",
    "    \n",
    "    # F1 Score: Harmonic mean of precision and recall\n",
    "    if precision + recall == 0:\n",
    "        f1_score = 0\n",
    "    else:\n",
    "        f1_score = 2 * (precision * recall) / (precision + recall)\n",
    "    \n",
    "    # Accuracy: The proportion of correct recommendations (true positives + true negatives) \n",
    "    total_items = len(all_items)  # Total unique items available\n",
    "    true_positives = relevant_items_in_test\n",
    "    false_positives = len(recommended_items) - true_positives\n",
    "    false_negatives = len(test_items) - true_positives\n",
    "    true_negatives = total_items - (true_positives + false_positives + false_negatives)\n",
    "    \n",
    "    accuracy = (true_positives + true_negatives) / total_items if total_items > 0 else 0\n",
    "    \n",
    "    return precision, recall, f1_score, accuracy\n",
    "\n",
    "\n",
    "item_name = \"Nice-n-Easy-Permanent-Color-111-Natural-Medium-Auburn-1-ea-Pack-of-3\"\n",
    "recommendations = content_based_recommendations(train_data, item_name, top_n=10)\n",
    "\n",
    "# Assuming 'all_items' is a list of all product names in the dataset\n",
    "all_items = train_data['Product Name'].unique()\n",
    "\n",
    "# Evaluate the recommendations based on overlap with the test data\n",
    "precision, recall, f1_score, accuracy = evaluate_recommendations_without_k(recommendations, test_data, all_items)\n",
    "\n",
    "print(f\"Precision: {precision}\")\n",
    "print(f\"Recall: {recall}\")\n",
    "print(f\"F1 Score: {f1_score}\")\n",
    "print(f\"Accuracy: {accuracy}\")\n"
   ]
  },
  {
   "cell_type": "code",
   "execution_count": null,
   "id": "13df75fc-c3be-4e80-9163-7beb5138fed8",
   "metadata": {},
   "outputs": [],
   "source": []
  },
  {
   "cell_type": "code",
   "execution_count": null,
   "id": "732ffe84-2f3d-42e0-a04a-a14a8daea7dc",
   "metadata": {},
   "outputs": [],
   "source": []
  },
  {
   "cell_type": "code",
   "execution_count": null,
   "id": "36fb36ff-bcfb-4e83-a45e-bf7928fcf834",
   "metadata": {},
   "outputs": [],
   "source": []
  }
 ],
 "metadata": {
  "kernelspec": {
   "display_name": "Python 3 (ipykernel)",
   "language": "python",
   "name": "python3"
  },
  "language_info": {
   "codemirror_mode": {
    "name": "ipython",
    "version": 3
   },
   "file_extension": ".py",
   "mimetype": "text/x-python",
   "name": "python",
   "nbconvert_exporter": "python",
   "pygments_lexer": "ipython3",
   "version": "3.12.4"
  }
 },
 "nbformat": 4,
 "nbformat_minor": 5
}
